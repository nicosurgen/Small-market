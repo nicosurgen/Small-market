{
 "cells": [
  {
   "cell_type": "code",
   "execution_count": 1,
   "id": "70e12057-3722-41df-8ee4-e483d023b372",
   "metadata": {},
   "outputs": [],
   "source": [
    "import pandas as pd\n",
    "import numpy as np\n",
    "from mlxtend.preprocessing import TransactionEncoder"
   ]
  },
  {
   "cell_type": "markdown",
   "id": "73f36444-2b76-4e3e-84a1-bb2bd6b1d97b",
   "metadata": {},
   "source": [
    "## Data Loading"
   ]
  },
  {
   "cell_type": "code",
   "execution_count": 2,
   "id": "5942ba15-a3aa-492a-aaa2-8856b5898322",
   "metadata": {},
   "outputs": [
    {
     "data": {
      "text/html": [
       "<div>\n",
       "<style scoped>\n",
       "    .dataframe tbody tr th:only-of-type {\n",
       "        vertical-align: middle;\n",
       "    }\n",
       "\n",
       "    .dataframe tbody tr th {\n",
       "        vertical-align: top;\n",
       "    }\n",
       "\n",
       "    .dataframe thead th {\n",
       "        text-align: right;\n",
       "    }\n",
       "</style>\n",
       "<table border=\"1\" class=\"dataframe\">\n",
       "  <thead>\n",
       "    <tr style=\"text-align: right;\">\n",
       "      <th></th>\n",
       "      <th>0</th>\n",
       "      <th>1</th>\n",
       "      <th>2</th>\n",
       "      <th>3</th>\n",
       "      <th>4</th>\n",
       "    </tr>\n",
       "  </thead>\n",
       "  <tbody>\n",
       "    <tr>\n",
       "      <th>977</th>\n",
       "      <td>pier</td>\n",
       "      <td>NaN</td>\n",
       "      <td>NaN</td>\n",
       "      <td>NaN</td>\n",
       "      <td>NaN</td>\n",
       "    </tr>\n",
       "    <tr>\n",
       "      <th>470</th>\n",
       "      <td>pebete</td>\n",
       "      <td>fernet</td>\n",
       "      <td>NaN</td>\n",
       "      <td>NaN</td>\n",
       "      <td>NaN</td>\n",
       "    </tr>\n",
       "    <tr>\n",
       "      <th>530</th>\n",
       "      <td>gomitas</td>\n",
       "      <td>NaN</td>\n",
       "      <td>NaN</td>\n",
       "      <td>NaN</td>\n",
       "      <td>NaN</td>\n",
       "    </tr>\n",
       "    <tr>\n",
       "      <th>911</th>\n",
       "      <td>campeon</td>\n",
       "      <td>NaN</td>\n",
       "      <td>NaN</td>\n",
       "      <td>NaN</td>\n",
       "      <td>NaN</td>\n",
       "    </tr>\n",
       "    <tr>\n",
       "      <th>351</th>\n",
       "      <td>stella</td>\n",
       "      <td>NaN</td>\n",
       "      <td>NaN</td>\n",
       "      <td>NaN</td>\n",
       "      <td>NaN</td>\n",
       "    </tr>\n",
       "    <tr>\n",
       "      <th>882</th>\n",
       "      <td>schneider</td>\n",
       "      <td>NaN</td>\n",
       "      <td>NaN</td>\n",
       "      <td>NaN</td>\n",
       "      <td>NaN</td>\n",
       "    </tr>\n",
       "    <tr>\n",
       "      <th>740</th>\n",
       "      <td>quilmes</td>\n",
       "      <td>NaN</td>\n",
       "      <td>NaN</td>\n",
       "      <td>NaN</td>\n",
       "      <td>NaN</td>\n",
       "    </tr>\n",
       "    <tr>\n",
       "      <th>594</th>\n",
       "      <td>baggio</td>\n",
       "      <td>pier</td>\n",
       "      <td>NaN</td>\n",
       "      <td>NaN</td>\n",
       "      <td>NaN</td>\n",
       "    </tr>\n",
       "    <tr>\n",
       "      <th>433</th>\n",
       "      <td>chester</td>\n",
       "      <td>NaN</td>\n",
       "      <td>NaN</td>\n",
       "      <td>NaN</td>\n",
       "      <td>NaN</td>\n",
       "    </tr>\n",
       "    <tr>\n",
       "      <th>159</th>\n",
       "      <td>pitusas</td>\n",
       "      <td>NaN</td>\n",
       "      <td>NaN</td>\n",
       "      <td>NaN</td>\n",
       "      <td>NaN</td>\n",
       "    </tr>\n",
       "  </tbody>\n",
       "</table>\n",
       "</div>"
      ],
      "text/plain": [
       "             0       1    2    3    4\n",
       "977       pier     NaN  NaN  NaN  NaN\n",
       "470     pebete  fernet  NaN  NaN  NaN\n",
       "530    gomitas     NaN  NaN  NaN  NaN\n",
       "911    campeon     NaN  NaN  NaN  NaN\n",
       "351     stella     NaN  NaN  NaN  NaN\n",
       "882  schneider     NaN  NaN  NaN  NaN\n",
       "740    quilmes     NaN  NaN  NaN  NaN\n",
       "594     baggio    pier  NaN  NaN  NaN\n",
       "433    chester     NaN  NaN  NaN  NaN\n",
       "159    pitusas     NaN  NaN  NaN  NaN"
      ]
     },
     "execution_count": 2,
     "metadata": {},
     "output_type": "execute_result"
    }
   ],
   "source": [
    "market = pd.read_csv(\"kiosco.csv\",header=None,skipfooter=0)\n",
    "market = market.loc[1:,:]\n",
    "market.sample(10)"
   ]
  },
  {
   "cell_type": "code",
   "execution_count": 3,
   "id": "39f54712-d635-449f-b48d-d543105d577d",
   "metadata": {},
   "outputs": [
    {
     "data": {
      "text/plain": [
       "(1032, 5)"
      ]
     },
     "execution_count": 3,
     "metadata": {},
     "output_type": "execute_result"
    }
   ],
   "source": [
    "market.shape"
   ]
  },
  {
   "cell_type": "code",
   "execution_count": 4,
   "id": "18f5e3a4-fc5e-4ee2-a94e-4acc0fd39910",
   "metadata": {},
   "outputs": [
    {
     "data": {
      "text/plain": [
       "Int64Index([0, 1, 2, 3, 4], dtype='int64')"
      ]
     },
     "execution_count": 4,
     "metadata": {},
     "output_type": "execute_result"
    }
   ],
   "source": [
    "market.columns"
   ]
  },
  {
   "cell_type": "markdown",
   "id": "e9602c77-17f1-46fe-90c5-72afb9b40c79",
   "metadata": {},
   "source": [
    "We have data from **1032 transactions** of the small market. The maximum quantity of items that customers purchase is 5 items in one transaction, and the minimum is 1."
   ]
  },
  {
   "cell_type": "markdown",
   "id": "b7fd8607-131f-4c15-a10f-68c7c85389c4",
   "metadata": {},
   "source": [
    "## Data Preprocessing"
   ]
  },
  {
   "cell_type": "markdown",
   "id": "0c785225-103a-4ac7-bae5-2878b389c3b0",
   "metadata": {},
   "source": [
    "First and foremost, I will convert the null data in transactions with fewer than 5 items into blank spaces."
   ]
  },
  {
   "cell_type": "code",
   "execution_count": 5,
   "id": "a989c50e-a412-4345-beb1-05cf6ed5a7a5",
   "metadata": {},
   "outputs": [
    {
     "data": {
      "text/html": [
       "<div>\n",
       "<style scoped>\n",
       "    .dataframe tbody tr th:only-of-type {\n",
       "        vertical-align: middle;\n",
       "    }\n",
       "\n",
       "    .dataframe tbody tr th {\n",
       "        vertical-align: top;\n",
       "    }\n",
       "\n",
       "    .dataframe thead th {\n",
       "        text-align: right;\n",
       "    }\n",
       "</style>\n",
       "<table border=\"1\" class=\"dataframe\">\n",
       "  <thead>\n",
       "    <tr style=\"text-align: right;\">\n",
       "      <th></th>\n",
       "      <th>0</th>\n",
       "      <th>1</th>\n",
       "      <th>2</th>\n",
       "      <th>3</th>\n",
       "      <th>4</th>\n",
       "    </tr>\n",
       "  </thead>\n",
       "  <tbody>\n",
       "    <tr>\n",
       "      <th>283</th>\n",
       "      <td>liverpool</td>\n",
       "      <td></td>\n",
       "      <td></td>\n",
       "      <td></td>\n",
       "      <td></td>\n",
       "    </tr>\n",
       "    <tr>\n",
       "      <th>960</th>\n",
       "      <td>coca</td>\n",
       "      <td>sanguche milanesa</td>\n",
       "      <td>phillip</td>\n",
       "      <td></td>\n",
       "      <td></td>\n",
       "    </tr>\n",
       "    <tr>\n",
       "      <th>740</th>\n",
       "      <td>quilmes</td>\n",
       "      <td></td>\n",
       "      <td></td>\n",
       "      <td></td>\n",
       "      <td></td>\n",
       "    </tr>\n",
       "    <tr>\n",
       "      <th>605</th>\n",
       "      <td>fantoche</td>\n",
       "      <td></td>\n",
       "      <td></td>\n",
       "      <td></td>\n",
       "      <td></td>\n",
       "    </tr>\n",
       "    <tr>\n",
       "      <th>162</th>\n",
       "      <td>pier</td>\n",
       "      <td>brahma</td>\n",
       "      <td></td>\n",
       "      <td></td>\n",
       "      <td></td>\n",
       "    </tr>\n",
       "    <tr>\n",
       "      <th>461</th>\n",
       "      <td>sanguche milanesa</td>\n",
       "      <td></td>\n",
       "      <td></td>\n",
       "      <td></td>\n",
       "      <td></td>\n",
       "    </tr>\n",
       "    <tr>\n",
       "      <th>732</th>\n",
       "      <td>sanguche miga</td>\n",
       "      <td>belden</td>\n",
       "      <td>alka</td>\n",
       "      <td></td>\n",
       "      <td></td>\n",
       "    </tr>\n",
       "    <tr>\n",
       "      <th>44</th>\n",
       "      <td>liverpool</td>\n",
       "      <td></td>\n",
       "      <td></td>\n",
       "      <td></td>\n",
       "      <td></td>\n",
       "    </tr>\n",
       "    <tr>\n",
       "      <th>739</th>\n",
       "      <td>chester</td>\n",
       "      <td></td>\n",
       "      <td></td>\n",
       "      <td></td>\n",
       "      <td></td>\n",
       "    </tr>\n",
       "    <tr>\n",
       "      <th>222</th>\n",
       "      <td>quilmes</td>\n",
       "      <td></td>\n",
       "      <td></td>\n",
       "      <td></td>\n",
       "      <td></td>\n",
       "    </tr>\n",
       "  </tbody>\n",
       "</table>\n",
       "</div>"
      ],
      "text/plain": [
       "                     0                  1        2 3 4\n",
       "283          liverpool                                \n",
       "960               coca  sanguche milanesa  phillip    \n",
       "740            quilmes                                \n",
       "605           fantoche                                \n",
       "162               pier             brahma             \n",
       "461  sanguche milanesa                                \n",
       "732      sanguche miga             belden     alka    \n",
       "44           liverpool                                \n",
       "739            chester                                \n",
       "222            quilmes                                "
      ]
     },
     "execution_count": 5,
     "metadata": {},
     "output_type": "execute_result"
    }
   ],
   "source": [
    "market.fillna('',axis=1,inplace=True)\n",
    "market.sample(10)"
   ]
  },
  {
   "cell_type": "markdown",
   "id": "e96b2aa5-5604-43f8-85cf-8f4b1d26757b",
   "metadata": {},
   "source": [
    "Now I am obtaining the unique values in the dataset, that is, all the items sold in the last two weeks."
   ]
  },
  {
   "cell_type": "code",
   "execution_count": 6,
   "id": "2e84a8d6-b6c7-4db1-8821-65cd26ea0c54",
   "metadata": {},
   "outputs": [
    {
     "name": "stdout",
     "output_type": "stream",
     "text": [
      "94\n"
     ]
    },
    {
     "data": {
      "text/plain": [
       "array(['fantoche', '', 'lucky', 'block', 'pier', 'coca', 'liverpool',\n",
       "       'chester', 'lata coca', 'vino', 'caramelos', 'don satur', 'cepita',\n",
       "       'pan', 'mentoplus', 'quilmes', 'pañuelos', '9 de oro', 'guaymayen',\n",
       "       'brahma', 'fanta', 'pebete', 'phillip', 'alka', 'encendedor',\n",
       "       'malboro', 'kit kat', 'santa fe', 'pritty', 'saladix', 'vocacion',\n",
       "       'café', 'turron', 'belden', 'mogul', 'fresh', 'fernet', 'terepin',\n",
       "       'speed', 'levite', 'powerade', 'sanguche milanesa', 'sprite',\n",
       "       'schneider', 'twistos', 'dos corazones', 'doritos', 'stella',\n",
       "       'pitusas', 'doctor lemon', 'monster', 'petaca', 'polvorita',\n",
       "       'chupetin', 'aquarius', 'lays', 'rhodesia', 'oreo', 'pronto',\n",
       "       'agua', 'doble cola', 'facturas', 'matecocido', 'agua tonica',\n",
       "       'baggio', 'sanguche miga', 'yerba', 'bandeja de miga', 'opera',\n",
       "       'bizcochos', 'alfajor santafesino', 'pipas', 'gin', 'heineken',\n",
       "       'iguana', 'gomitas', 'mini oreo', 'jorgito', 'conitos',\n",
       "       'alfajor de maicena', 'yougurt', 'barrita de cereales', 'cofler',\n",
       "       'gancia', 'cereales', 'lincon', 'postre', 'gatorade', 'paseo',\n",
       "       'corona', 'campeon', 'tarta', 'topline', 'alfajor block'],\n",
       "      dtype=object)"
      ]
     },
     "execution_count": 6,
     "metadata": {},
     "output_type": "execute_result"
    }
   ],
   "source": [
    "uniques = pd.unique(market.values.ravel())\n",
    "print(len(uniques))\n",
    "uniques"
   ]
  },
  {
   "cell_type": "markdown",
   "id": "bef2d8f6-daa0-416f-a917-e8597413f75d",
   "metadata": {},
   "source": [
    "I am storing the transactions in lists of equal size."
   ]
  },
  {
   "cell_type": "code",
   "execution_count": 7,
   "id": "eac2fa1d-610b-4472-9c6a-b6a356e2e609",
   "metadata": {},
   "outputs": [],
   "source": [
    "transactions = []\n",
    "for i in range(0, 1032):\n",
    "    transactions.append([str(market.values[i,j]) for j in range(0, 5)])"
   ]
  },
  {
   "cell_type": "code",
   "execution_count": 8,
   "id": "3a7f37e9-1feb-4c65-977b-e99ac3b4027a",
   "metadata": {},
   "outputs": [
    {
     "name": "stdout",
     "output_type": "stream",
     "text": [
      "1032\n",
      "5\n"
     ]
    },
    {
     "data": {
      "text/plain": [
       "['liverpool', 'caramelos', '', '', '']"
      ]
     },
     "execution_count": 8,
     "metadata": {},
     "output_type": "execute_result"
    }
   ],
   "source": [
    "print(len(transactions))\n",
    "print(len(transactions[0]))\n",
    "transactions[87]"
   ]
  },
  {
   "cell_type": "markdown",
   "id": "e525d634-0ddf-450e-aed1-32fb3b1ed09a",
   "metadata": {},
   "source": [
    "In order to use the transaction data with the Apriori algorithm, I need to convert the transactions into a dataframe with one-hot encoding. So, first of all, I instantiate the transaction encoder, which is the array I will use to create that dataframe."
   ]
  },
  {
   "cell_type": "code",
   "execution_count": 9,
   "id": "16a89f52-96ef-4703-9bce-eccd13c7754f",
   "metadata": {},
   "outputs": [
    {
     "data": {
      "text/plain": [
       "array([[ True, False, False, ..., False, False, False],\n",
       "       [ True, False, False, ..., False, False, False],\n",
       "       [ True, False, False, ..., False, False, False],\n",
       "       ...,\n",
       "       [ True, False, False, ..., False, False, False],\n",
       "       [ True, False, False, ..., False, False, False],\n",
       "       [ True, False, False, ..., False, False, False]])"
      ]
     },
     "execution_count": 9,
     "metadata": {},
     "output_type": "execute_result"
    }
   ],
   "source": [
    "te = TransactionEncoder()\n",
    "te_array = te.fit(transactions).transform(transactions)\n",
    "te_array"
   ]
  },
  {
   "cell_type": "markdown",
   "id": "c66837c9-9282-458b-ab8e-acf32aa9a905",
   "metadata": {},
   "source": [
    "I am creating the new dataframe with one-hot encoding."
   ]
  },
  {
   "cell_type": "code",
   "execution_count": 10,
   "id": "765ca7d3-d9c8-4085-a396-01d2cb671cfa",
   "metadata": {},
   "outputs": [
    {
     "data": {
      "text/plain": [
       "['',\n",
       " '9 de oro',\n",
       " 'agua',\n",
       " 'agua tonica',\n",
       " 'alfajor block',\n",
       " 'alfajor de maicena',\n",
       " 'alfajor santafesino',\n",
       " 'alka',\n",
       " 'aquarius',\n",
       " 'baggio',\n",
       " 'bandeja de miga',\n",
       " 'barrita de cereales',\n",
       " 'belden',\n",
       " 'bizcochos',\n",
       " 'block',\n",
       " 'brahma',\n",
       " 'café',\n",
       " 'campeon',\n",
       " 'caramelos',\n",
       " 'cepita',\n",
       " 'cereales',\n",
       " 'chester',\n",
       " 'chupetin',\n",
       " 'coca',\n",
       " 'cofler',\n",
       " 'conitos',\n",
       " 'corona',\n",
       " 'doble cola',\n",
       " 'doctor lemon',\n",
       " 'don satur',\n",
       " 'doritos',\n",
       " 'dos corazones',\n",
       " 'encendedor',\n",
       " 'facturas',\n",
       " 'fanta',\n",
       " 'fantoche',\n",
       " 'fernet',\n",
       " 'fresh',\n",
       " 'gancia',\n",
       " 'gatorade',\n",
       " 'gin',\n",
       " 'gomitas',\n",
       " 'guaymayen',\n",
       " 'heineken',\n",
       " 'iguana',\n",
       " 'jorgito',\n",
       " 'kit kat',\n",
       " 'lata coca',\n",
       " 'lays',\n",
       " 'levite',\n",
       " 'lincon',\n",
       " 'liverpool',\n",
       " 'lucky',\n",
       " 'malboro',\n",
       " 'matecocido',\n",
       " 'mentoplus',\n",
       " 'mini oreo',\n",
       " 'mogul',\n",
       " 'monster',\n",
       " 'opera',\n",
       " 'oreo',\n",
       " 'pan',\n",
       " 'paseo',\n",
       " 'pañuelos',\n",
       " 'pebete',\n",
       " 'petaca',\n",
       " 'phillip',\n",
       " 'pier',\n",
       " 'pipas',\n",
       " 'pitusas',\n",
       " 'polvorita',\n",
       " 'postre',\n",
       " 'powerade',\n",
       " 'pritty',\n",
       " 'pronto',\n",
       " 'quilmes',\n",
       " 'rhodesia',\n",
       " 'saladix',\n",
       " 'sanguche miga',\n",
       " 'sanguche milanesa',\n",
       " 'santa fe',\n",
       " 'schneider',\n",
       " 'speed',\n",
       " 'sprite',\n",
       " 'stella',\n",
       " 'tarta',\n",
       " 'terepin',\n",
       " 'topline',\n",
       " 'turron',\n",
       " 'twistos',\n",
       " 'vino',\n",
       " 'vocacion',\n",
       " 'yerba',\n",
       " 'yougurt']"
      ]
     },
     "execution_count": 10,
     "metadata": {},
     "output_type": "execute_result"
    }
   ],
   "source": [
    "basket = pd.DataFrame(te_array,columns=te.columns_)\n",
    "\n",
    "te.columns_"
   ]
  },
  {
   "cell_type": "markdown",
   "id": "614d0813-550a-4fd3-b71b-c1c03a30d426",
   "metadata": {},
   "source": [
    "I am removing the column of blank spaces to avoid interfering with the modeling of the algorithm."
   ]
  },
  {
   "cell_type": "code",
   "execution_count": 11,
   "id": "7156ee77-391c-4ae2-923e-f4b84fe9b3c3",
   "metadata": {},
   "outputs": [],
   "source": [
    "basket.drop(columns=[''],axis=1,inplace=True)"
   ]
  },
  {
   "cell_type": "code",
   "execution_count": 12,
   "id": "a9bc9d74-6829-443c-8fa7-999dc6b7e720",
   "metadata": {},
   "outputs": [
    {
     "data": {
      "text/html": [
       "<div>\n",
       "<style scoped>\n",
       "    .dataframe tbody tr th:only-of-type {\n",
       "        vertical-align: middle;\n",
       "    }\n",
       "\n",
       "    .dataframe tbody tr th {\n",
       "        vertical-align: top;\n",
       "    }\n",
       "\n",
       "    .dataframe thead th {\n",
       "        text-align: right;\n",
       "    }\n",
       "</style>\n",
       "<table border=\"1\" class=\"dataframe\">\n",
       "  <thead>\n",
       "    <tr style=\"text-align: right;\">\n",
       "      <th></th>\n",
       "      <th>9 de oro</th>\n",
       "      <th>agua</th>\n",
       "      <th>agua tonica</th>\n",
       "      <th>alfajor block</th>\n",
       "      <th>alfajor de maicena</th>\n",
       "      <th>alfajor santafesino</th>\n",
       "      <th>alka</th>\n",
       "      <th>aquarius</th>\n",
       "      <th>baggio</th>\n",
       "      <th>bandeja de miga</th>\n",
       "      <th>...</th>\n",
       "      <th>stella</th>\n",
       "      <th>tarta</th>\n",
       "      <th>terepin</th>\n",
       "      <th>topline</th>\n",
       "      <th>turron</th>\n",
       "      <th>twistos</th>\n",
       "      <th>vino</th>\n",
       "      <th>vocacion</th>\n",
       "      <th>yerba</th>\n",
       "      <th>yougurt</th>\n",
       "    </tr>\n",
       "  </thead>\n",
       "  <tbody>\n",
       "    <tr>\n",
       "      <th>92</th>\n",
       "      <td>False</td>\n",
       "      <td>False</td>\n",
       "      <td>False</td>\n",
       "      <td>False</td>\n",
       "      <td>False</td>\n",
       "      <td>False</td>\n",
       "      <td>False</td>\n",
       "      <td>False</td>\n",
       "      <td>False</td>\n",
       "      <td>False</td>\n",
       "      <td>...</td>\n",
       "      <td>False</td>\n",
       "      <td>False</td>\n",
       "      <td>False</td>\n",
       "      <td>False</td>\n",
       "      <td>False</td>\n",
       "      <td>False</td>\n",
       "      <td>False</td>\n",
       "      <td>False</td>\n",
       "      <td>False</td>\n",
       "      <td>False</td>\n",
       "    </tr>\n",
       "  </tbody>\n",
       "</table>\n",
       "<p>1 rows × 93 columns</p>\n",
       "</div>"
      ],
      "text/plain": [
       "    9 de oro   agua  agua tonica  alfajor block  alfajor de maicena  \\\n",
       "92     False  False        False          False               False   \n",
       "\n",
       "    alfajor santafesino   alka  aquarius  baggio  bandeja de miga  ...  \\\n",
       "92                False  False     False   False            False  ...   \n",
       "\n",
       "    stella  tarta  terepin  topline  turron  twistos   vino  vocacion  yerba  \\\n",
       "92   False  False    False    False   False    False  False     False  False   \n",
       "\n",
       "    yougurt  \n",
       "92    False  \n",
       "\n",
       "[1 rows x 93 columns]"
      ]
     },
     "execution_count": 12,
     "metadata": {},
     "output_type": "execute_result"
    }
   ],
   "source": [
    "basket.sample(1)"
   ]
  },
  {
   "cell_type": "markdown",
   "id": "6fe732c9-8ca1-43dd-9562-361a431e3016",
   "metadata": {},
   "source": [
    "## Saving the new processed dataset."
   ]
  },
  {
   "cell_type": "code",
   "execution_count": 13,
   "id": "0b8a8030-a8d2-4514-b4a9-9e1ad4291ecd",
   "metadata": {},
   "outputs": [],
   "source": [
    "basket.to_csv(\"basket.csv\", index=False)"
   ]
  }
 ],
 "metadata": {
  "kernelspec": {
   "display_name": "Python 3 (ipykernel)",
   "language": "python",
   "name": "python3"
  },
  "language_info": {
   "codemirror_mode": {
    "name": "ipython",
    "version": 3
   },
   "file_extension": ".py",
   "mimetype": "text/x-python",
   "name": "python",
   "nbconvert_exporter": "python",
   "pygments_lexer": "ipython3",
   "version": "3.10.9"
  }
 },
 "nbformat": 4,
 "nbformat_minor": 5
}
