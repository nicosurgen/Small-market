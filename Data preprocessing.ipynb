{
 "cells": [
  {
   "cell_type": "code",
   "execution_count": 1,
   "id": "70e12057-3722-41df-8ee4-e483d023b372",
   "metadata": {},
   "outputs": [],
   "source": [
    "import pandas as pd\n",
    "import numpy as np\n",
    "from mlxtend.preprocessing import TransactionEncoder"
   ]
  },
  {
   "cell_type": "markdown",
   "id": "73f36444-2b76-4e3e-84a1-bb2bd6b1d97b",
   "metadata": {},
   "source": [
    "## Data Loading"
   ]
  },
  {
   "cell_type": "code",
   "execution_count": 2,
   "id": "5942ba15-a3aa-492a-aaa2-8856b5898322",
   "metadata": {},
   "outputs": [
    {
     "data": {
      "text/html": [
       "<div>\n",
       "<style scoped>\n",
       "    .dataframe tbody tr th:only-of-type {\n",
       "        vertical-align: middle;\n",
       "    }\n",
       "\n",
       "    .dataframe tbody tr th {\n",
       "        vertical-align: top;\n",
       "    }\n",
       "\n",
       "    .dataframe thead th {\n",
       "        text-align: right;\n",
       "    }\n",
       "</style>\n",
       "<table border=\"1\" class=\"dataframe\">\n",
       "  <thead>\n",
       "    <tr style=\"text-align: right;\">\n",
       "      <th></th>\n",
       "      <th>0</th>\n",
       "      <th>1</th>\n",
       "      <th>2</th>\n",
       "      <th>3</th>\n",
       "      <th>4</th>\n",
       "    </tr>\n",
       "  </thead>\n",
       "  <tbody>\n",
       "    <tr>\n",
       "      <th>348</th>\n",
       "      <td>pier</td>\n",
       "      <td>coca</td>\n",
       "      <td>belden</td>\n",
       "      <td>NaN</td>\n",
       "      <td>NaN</td>\n",
       "    </tr>\n",
       "    <tr>\n",
       "      <th>525</th>\n",
       "      <td>quilmes</td>\n",
       "      <td>NaN</td>\n",
       "      <td>NaN</td>\n",
       "      <td>NaN</td>\n",
       "      <td>NaN</td>\n",
       "    </tr>\n",
       "    <tr>\n",
       "      <th>59</th>\n",
       "      <td>santa fe</td>\n",
       "      <td>liverpool</td>\n",
       "      <td>NaN</td>\n",
       "      <td>NaN</td>\n",
       "      <td>NaN</td>\n",
       "    </tr>\n",
       "    <tr>\n",
       "      <th>454</th>\n",
       "      <td>quilmes</td>\n",
       "      <td>NaN</td>\n",
       "      <td>NaN</td>\n",
       "      <td>NaN</td>\n",
       "      <td>NaN</td>\n",
       "    </tr>\n",
       "    <tr>\n",
       "      <th>842</th>\n",
       "      <td>pebete</td>\n",
       "      <td>coca</td>\n",
       "      <td>NaN</td>\n",
       "      <td>NaN</td>\n",
       "      <td>NaN</td>\n",
       "    </tr>\n",
       "    <tr>\n",
       "      <th>45</th>\n",
       "      <td>quilmes</td>\n",
       "      <td>NaN</td>\n",
       "      <td>NaN</td>\n",
       "      <td>NaN</td>\n",
       "      <td>NaN</td>\n",
       "    </tr>\n",
       "    <tr>\n",
       "      <th>717</th>\n",
       "      <td>doctor lemon</td>\n",
       "      <td>NaN</td>\n",
       "      <td>NaN</td>\n",
       "      <td>NaN</td>\n",
       "      <td>NaN</td>\n",
       "    </tr>\n",
       "    <tr>\n",
       "      <th>271</th>\n",
       "      <td>fantoche</td>\n",
       "      <td>monster</td>\n",
       "      <td>NaN</td>\n",
       "      <td>NaN</td>\n",
       "      <td>NaN</td>\n",
       "    </tr>\n",
       "    <tr>\n",
       "      <th>602</th>\n",
       "      <td>doctor lemon</td>\n",
       "      <td>NaN</td>\n",
       "      <td>NaN</td>\n",
       "      <td>NaN</td>\n",
       "      <td>NaN</td>\n",
       "    </tr>\n",
       "    <tr>\n",
       "      <th>489</th>\n",
       "      <td>quilmes</td>\n",
       "      <td>coca</td>\n",
       "      <td>NaN</td>\n",
       "      <td>NaN</td>\n",
       "      <td>NaN</td>\n",
       "    </tr>\n",
       "  </tbody>\n",
       "</table>\n",
       "</div>"
      ],
      "text/plain": [
       "                0          1       2    3    4\n",
       "348          pier       coca  belden  NaN  NaN\n",
       "525       quilmes        NaN     NaN  NaN  NaN\n",
       "59       santa fe  liverpool     NaN  NaN  NaN\n",
       "454       quilmes        NaN     NaN  NaN  NaN\n",
       "842        pebete       coca     NaN  NaN  NaN\n",
       "45        quilmes        NaN     NaN  NaN  NaN\n",
       "717  doctor lemon        NaN     NaN  NaN  NaN\n",
       "271      fantoche    monster     NaN  NaN  NaN\n",
       "602  doctor lemon        NaN     NaN  NaN  NaN\n",
       "489       quilmes       coca     NaN  NaN  NaN"
      ]
     },
     "execution_count": 2,
     "metadata": {},
     "output_type": "execute_result"
    }
   ],
   "source": [
    "market = pd.read_csv(\"kiosco.csv\",header=None,skipfooter=0)\n",
    "market = market.loc[1:,:]\n",
    "market.sample(10)"
   ]
  },
  {
   "cell_type": "code",
   "execution_count": 3,
   "id": "39f54712-d635-449f-b48d-d543105d577d",
   "metadata": {},
   "outputs": [
    {
     "data": {
      "text/plain": [
       "(1032, 5)"
      ]
     },
     "execution_count": 3,
     "metadata": {},
     "output_type": "execute_result"
    }
   ],
   "source": [
    "market.shape"
   ]
  },
  {
   "cell_type": "code",
   "execution_count": 4,
   "id": "18f5e3a4-fc5e-4ee2-a94e-4acc0fd39910",
   "metadata": {},
   "outputs": [
    {
     "data": {
      "text/plain": [
       "Int64Index([0, 1, 2, 3, 4], dtype='int64')"
      ]
     },
     "execution_count": 4,
     "metadata": {},
     "output_type": "execute_result"
    }
   ],
   "source": [
    "market.columns"
   ]
  },
  {
   "cell_type": "markdown",
   "id": "e9602c77-17f1-46fe-90c5-72afb9b40c79",
   "metadata": {},
   "source": [
    "We have data from **1032 transactions** of the small market. The maximum quantity of items that customers purchase is 5 items in one transaction, and the minimum is 1."
   ]
  },
  {
   "cell_type": "markdown",
   "id": "b7fd8607-131f-4c15-a10f-68c7c85389c4",
   "metadata": {},
   "source": [
    "## Data Preprocessing"
   ]
  },
  {
   "cell_type": "markdown",
   "id": "0c785225-103a-4ac7-bae5-2878b389c3b0",
   "metadata": {},
   "source": [
    "First and foremost, I will convert the null data in transactions with fewer than 5 items into blank spaces."
   ]
  },
  {
   "cell_type": "code",
   "execution_count": 5,
   "id": "a989c50e-a412-4345-beb1-05cf6ed5a7a5",
   "metadata": {},
   "outputs": [
    {
     "data": {
      "text/html": [
       "<div>\n",
       "<style scoped>\n",
       "    .dataframe tbody tr th:only-of-type {\n",
       "        vertical-align: middle;\n",
       "    }\n",
       "\n",
       "    .dataframe tbody tr th {\n",
       "        vertical-align: top;\n",
       "    }\n",
       "\n",
       "    .dataframe thead th {\n",
       "        text-align: right;\n",
       "    }\n",
       "</style>\n",
       "<table border=\"1\" class=\"dataframe\">\n",
       "  <thead>\n",
       "    <tr style=\"text-align: right;\">\n",
       "      <th></th>\n",
       "      <th>0</th>\n",
       "      <th>1</th>\n",
       "      <th>2</th>\n",
       "      <th>3</th>\n",
       "      <th>4</th>\n",
       "    </tr>\n",
       "  </thead>\n",
       "  <tbody>\n",
       "    <tr>\n",
       "      <th>196</th>\n",
       "      <td>caramelos</td>\n",
       "      <td></td>\n",
       "      <td></td>\n",
       "      <td></td>\n",
       "      <td></td>\n",
       "    </tr>\n",
       "    <tr>\n",
       "      <th>151</th>\n",
       "      <td>pier</td>\n",
       "      <td></td>\n",
       "      <td></td>\n",
       "      <td></td>\n",
       "      <td></td>\n",
       "    </tr>\n",
       "    <tr>\n",
       "      <th>962</th>\n",
       "      <td>fresh</td>\n",
       "      <td></td>\n",
       "      <td></td>\n",
       "      <td></td>\n",
       "      <td></td>\n",
       "    </tr>\n",
       "    <tr>\n",
       "      <th>282</th>\n",
       "      <td>malboro</td>\n",
       "      <td></td>\n",
       "      <td></td>\n",
       "      <td></td>\n",
       "      <td></td>\n",
       "    </tr>\n",
       "    <tr>\n",
       "      <th>250</th>\n",
       "      <td>alka</td>\n",
       "      <td></td>\n",
       "      <td></td>\n",
       "      <td></td>\n",
       "      <td></td>\n",
       "    </tr>\n",
       "    <tr>\n",
       "      <th>96</th>\n",
       "      <td>coca</td>\n",
       "      <td></td>\n",
       "      <td></td>\n",
       "      <td></td>\n",
       "      <td></td>\n",
       "    </tr>\n",
       "    <tr>\n",
       "      <th>63</th>\n",
       "      <td>phillip</td>\n",
       "      <td>quilmes</td>\n",
       "      <td></td>\n",
       "      <td></td>\n",
       "      <td></td>\n",
       "    </tr>\n",
       "    <tr>\n",
       "      <th>960</th>\n",
       "      <td>coca</td>\n",
       "      <td>sanguche de milanesa</td>\n",
       "      <td>phillip</td>\n",
       "      <td></td>\n",
       "      <td></td>\n",
       "    </tr>\n",
       "    <tr>\n",
       "      <th>757</th>\n",
       "      <td>malboro</td>\n",
       "      <td></td>\n",
       "      <td></td>\n",
       "      <td></td>\n",
       "      <td></td>\n",
       "    </tr>\n",
       "    <tr>\n",
       "      <th>160</th>\n",
       "      <td>doctor lemon</td>\n",
       "      <td></td>\n",
       "      <td></td>\n",
       "      <td></td>\n",
       "      <td></td>\n",
       "    </tr>\n",
       "  </tbody>\n",
       "</table>\n",
       "</div>"
      ],
      "text/plain": [
       "                0                     1        2 3 4\n",
       "196     caramelos                                   \n",
       "151          pier                                   \n",
       "962         fresh                                   \n",
       "282       malboro                                   \n",
       "250          alka                                   \n",
       "96           coca                                   \n",
       "63        phillip               quilmes             \n",
       "960          coca  sanguche de milanesa  phillip    \n",
       "757       malboro                                   \n",
       "160  doctor lemon                                   "
      ]
     },
     "execution_count": 5,
     "metadata": {},
     "output_type": "execute_result"
    }
   ],
   "source": [
    "market.fillna('',axis=1,inplace=True)\n",
    "market.sample(10)"
   ]
  },
  {
   "cell_type": "markdown",
   "id": "e96b2aa5-5604-43f8-85cf-8f4b1d26757b",
   "metadata": {},
   "source": [
    "Now I am obtaining the unique values in the dataset, that is, all the items sold in the last two weeks."
   ]
  },
  {
   "cell_type": "code",
   "execution_count": 6,
   "id": "2e84a8d6-b6c7-4db1-8821-65cd26ea0c54",
   "metadata": {},
   "outputs": [
    {
     "name": "stdout",
     "output_type": "stream",
     "text": [
      "103\n"
     ]
    },
    {
     "data": {
      "text/plain": [
       "array(['fantoche', '', 'lucky', 'block', 'pier', 'coca', 'liverpool',\n",
       "       'chester', 'lata coca', 'vino', 'caramelos', 'don satur', 'cepita',\n",
       "       'pan', 'mentoplus', 'fantonche', 'quilmes', 'pañuelos', '9 de oro',\n",
       "       'guaymayen', 'brahma', 'fanta', 'pebete', 'phillip', 'alka',\n",
       "       'encendedor', 'malboro', 'kit kat', 'santa fe', 'pritty',\n",
       "       'saladix', 'vocacion', 'café', 'turron', 'belden', 'mogul',\n",
       "       'fresh', 'fernet', 'terepin', 'speed', 'levite', 'powerade',\n",
       "       'sanguche milanesa', 'sprite', 'schneider', 'twistos',\n",
       "       'dos corazones', 'dorito', 'stella', 'pitusas', 'doctor lemon',\n",
       "       'monster', 'petaca', 'polvorita', 'chupetin', 'aquarius', 'lays',\n",
       "       'rodesia', 'oreo', 'pronto', 'agua', 'doble cola', 'facturas',\n",
       "       'matecocido', 'rodecia', 'agua tonica', 'baggio',\n",
       "       'sanguche de miga', 'yerba', 'bandeja de miga', 'opera',\n",
       "       'bizcochos', 'encededor', 'alfajor santafecino', 'pipas', 'gin',\n",
       "       'heineken', 'iguana', 'sanguche miga', 'gomitas', 'mini oreo',\n",
       "       'jorgito', 'sanguche de milanesa', 'cafe', 'alfajor santafesino',\n",
       "       'conitos', 'doritos', 'alfajor de maicena', 'yougurt',\n",
       "       'barrita de cereales', 'cofler', 'gancia', 'cerealeses', 'lincon',\n",
       "       'postre', 'gatorade', 'paseo', 'corona', 'cereales', 'campeon',\n",
       "       'tarta', 'topline', 'alfajor block'], dtype=object)"
      ]
     },
     "execution_count": 6,
     "metadata": {},
     "output_type": "execute_result"
    }
   ],
   "source": [
    "uniques = pd.unique(market.values.ravel())\n",
    "print(len(uniques))\n",
    "uniques"
   ]
  },
  {
   "cell_type": "markdown",
   "id": "bef2d8f6-daa0-416f-a917-e8597413f75d",
   "metadata": {},
   "source": [
    "I am storing the transactions in lists of equal size."
   ]
  },
  {
   "cell_type": "code",
   "execution_count": 7,
   "id": "eac2fa1d-610b-4472-9c6a-b6a356e2e609",
   "metadata": {},
   "outputs": [],
   "source": [
    "transactions = []\n",
    "for i in range(0, 1032):\n",
    "    transactions.append([str(market.values[i,j]) for j in range(0, 5)])"
   ]
  },
  {
   "cell_type": "code",
   "execution_count": 8,
   "id": "3a7f37e9-1feb-4c65-977b-e99ac3b4027a",
   "metadata": {},
   "outputs": [
    {
     "name": "stdout",
     "output_type": "stream",
     "text": [
      "1032\n",
      "5\n"
     ]
    },
    {
     "data": {
      "text/plain": [
       "['liverpool', 'caramelos', '', '', '']"
      ]
     },
     "execution_count": 8,
     "metadata": {},
     "output_type": "execute_result"
    }
   ],
   "source": [
    "print(len(transactions))\n",
    "print(len(transactions[0]))\n",
    "transactions[87]"
   ]
  },
  {
   "cell_type": "markdown",
   "id": "e525d634-0ddf-450e-aed1-32fb3b1ed09a",
   "metadata": {},
   "source": [
    "In order to use the transaction data with the Apriori algorithm, I need to convert the transactions into a dataframe with one-hot encoding. So, first of all, I instantiate the transaction encoder, which is the array I will use to create that dataframe."
   ]
  },
  {
   "cell_type": "code",
   "execution_count": 9,
   "id": "16a89f52-96ef-4703-9bce-eccd13c7754f",
   "metadata": {},
   "outputs": [
    {
     "data": {
      "text/plain": [
       "array([[ True, False, False, ..., False, False, False],\n",
       "       [ True, False, False, ..., False, False, False],\n",
       "       [ True, False, False, ..., False, False, False],\n",
       "       ...,\n",
       "       [ True, False, False, ..., False, False, False],\n",
       "       [ True, False, False, ..., False, False, False],\n",
       "       [ True, False, False, ..., False, False, False]])"
      ]
     },
     "execution_count": 9,
     "metadata": {},
     "output_type": "execute_result"
    }
   ],
   "source": [
    "te = TransactionEncoder()\n",
    "te_array = te.fit(transactions).transform(transactions)\n",
    "te_array"
   ]
  },
  {
   "cell_type": "markdown",
   "id": "c66837c9-9282-458b-ab8e-acf32aa9a905",
   "metadata": {},
   "source": [
    "I am creating the new dataframe with one-hot encoding."
   ]
  },
  {
   "cell_type": "code",
   "execution_count": 10,
   "id": "765ca7d3-d9c8-4085-a396-01d2cb671cfa",
   "metadata": {},
   "outputs": [
    {
     "data": {
      "text/plain": [
       "['',\n",
       " '9 de oro',\n",
       " 'agua',\n",
       " 'agua tonica',\n",
       " 'alfajor block',\n",
       " 'alfajor de maicena',\n",
       " 'alfajor santafecino',\n",
       " 'alfajor santafesino',\n",
       " 'alka',\n",
       " 'aquarius',\n",
       " 'baggio',\n",
       " 'bandeja de miga',\n",
       " 'barrita de cereales',\n",
       " 'belden',\n",
       " 'bizcochos',\n",
       " 'block',\n",
       " 'brahma',\n",
       " 'cafe',\n",
       " 'café',\n",
       " 'campeon',\n",
       " 'caramelos',\n",
       " 'cepita',\n",
       " 'cereales',\n",
       " 'cerealeses',\n",
       " 'chester',\n",
       " 'chupetin',\n",
       " 'coca',\n",
       " 'cofler',\n",
       " 'conitos',\n",
       " 'corona',\n",
       " 'doble cola',\n",
       " 'doctor lemon',\n",
       " 'don satur',\n",
       " 'dorito',\n",
       " 'doritos',\n",
       " 'dos corazones',\n",
       " 'encededor',\n",
       " 'encendedor',\n",
       " 'facturas',\n",
       " 'fanta',\n",
       " 'fantoche',\n",
       " 'fantonche',\n",
       " 'fernet',\n",
       " 'fresh',\n",
       " 'gancia',\n",
       " 'gatorade',\n",
       " 'gin',\n",
       " 'gomitas',\n",
       " 'guaymayen',\n",
       " 'heineken',\n",
       " 'iguana',\n",
       " 'jorgito',\n",
       " 'kit kat',\n",
       " 'lata coca',\n",
       " 'lays',\n",
       " 'levite',\n",
       " 'lincon',\n",
       " 'liverpool',\n",
       " 'lucky',\n",
       " 'malboro',\n",
       " 'matecocido',\n",
       " 'mentoplus',\n",
       " 'mini oreo',\n",
       " 'mogul',\n",
       " 'monster',\n",
       " 'opera',\n",
       " 'oreo',\n",
       " 'pan',\n",
       " 'paseo',\n",
       " 'pañuelos',\n",
       " 'pebete',\n",
       " 'petaca',\n",
       " 'phillip',\n",
       " 'pier',\n",
       " 'pipas',\n",
       " 'pitusas',\n",
       " 'polvorita',\n",
       " 'postre',\n",
       " 'powerade',\n",
       " 'pritty',\n",
       " 'pronto',\n",
       " 'quilmes',\n",
       " 'rodecia',\n",
       " 'rodesia',\n",
       " 'saladix',\n",
       " 'sanguche de miga',\n",
       " 'sanguche de milanesa',\n",
       " 'sanguche miga',\n",
       " 'sanguche milanesa',\n",
       " 'santa fe',\n",
       " 'schneider',\n",
       " 'speed',\n",
       " 'sprite',\n",
       " 'stella',\n",
       " 'tarta',\n",
       " 'terepin',\n",
       " 'topline',\n",
       " 'turron',\n",
       " 'twistos',\n",
       " 'vino',\n",
       " 'vocacion',\n",
       " 'yerba',\n",
       " 'yougurt']"
      ]
     },
     "execution_count": 10,
     "metadata": {},
     "output_type": "execute_result"
    }
   ],
   "source": [
    "basket = pd.DataFrame(te_array,columns=te.columns_)\n",
    "\n",
    "te.columns_"
   ]
  },
  {
   "cell_type": "markdown",
   "id": "614d0813-550a-4fd3-b71b-c1c03a30d426",
   "metadata": {},
   "source": [
    "I am removing the column of blank spaces to avoid interfering with the modeling of the algorithm."
   ]
  },
  {
   "cell_type": "code",
   "execution_count": 11,
   "id": "7156ee77-391c-4ae2-923e-f4b84fe9b3c3",
   "metadata": {},
   "outputs": [],
   "source": [
    "basket.drop(columns=[''],axis=1,inplace=True)"
   ]
  },
  {
   "cell_type": "code",
   "execution_count": 12,
   "id": "a9bc9d74-6829-443c-8fa7-999dc6b7e720",
   "metadata": {},
   "outputs": [
    {
     "data": {
      "text/html": [
       "<div>\n",
       "<style scoped>\n",
       "    .dataframe tbody tr th:only-of-type {\n",
       "        vertical-align: middle;\n",
       "    }\n",
       "\n",
       "    .dataframe tbody tr th {\n",
       "        vertical-align: top;\n",
       "    }\n",
       "\n",
       "    .dataframe thead th {\n",
       "        text-align: right;\n",
       "    }\n",
       "</style>\n",
       "<table border=\"1\" class=\"dataframe\">\n",
       "  <thead>\n",
       "    <tr style=\"text-align: right;\">\n",
       "      <th></th>\n",
       "      <th>9 de oro</th>\n",
       "      <th>agua</th>\n",
       "      <th>agua tonica</th>\n",
       "      <th>alfajor block</th>\n",
       "      <th>alfajor de maicena</th>\n",
       "      <th>alfajor santafecino</th>\n",
       "      <th>alfajor santafesino</th>\n",
       "      <th>alka</th>\n",
       "      <th>aquarius</th>\n",
       "      <th>baggio</th>\n",
       "      <th>...</th>\n",
       "      <th>stella</th>\n",
       "      <th>tarta</th>\n",
       "      <th>terepin</th>\n",
       "      <th>topline</th>\n",
       "      <th>turron</th>\n",
       "      <th>twistos</th>\n",
       "      <th>vino</th>\n",
       "      <th>vocacion</th>\n",
       "      <th>yerba</th>\n",
       "      <th>yougurt</th>\n",
       "    </tr>\n",
       "  </thead>\n",
       "  <tbody>\n",
       "    <tr>\n",
       "      <th>730</th>\n",
       "      <td>False</td>\n",
       "      <td>False</td>\n",
       "      <td>False</td>\n",
       "      <td>False</td>\n",
       "      <td>False</td>\n",
       "      <td>False</td>\n",
       "      <td>False</td>\n",
       "      <td>False</td>\n",
       "      <td>False</td>\n",
       "      <td>False</td>\n",
       "      <td>...</td>\n",
       "      <td>False</td>\n",
       "      <td>False</td>\n",
       "      <td>False</td>\n",
       "      <td>False</td>\n",
       "      <td>False</td>\n",
       "      <td>False</td>\n",
       "      <td>False</td>\n",
       "      <td>False</td>\n",
       "      <td>False</td>\n",
       "      <td>False</td>\n",
       "    </tr>\n",
       "  </tbody>\n",
       "</table>\n",
       "<p>1 rows × 102 columns</p>\n",
       "</div>"
      ],
      "text/plain": [
       "     9 de oro   agua  agua tonica  alfajor block  alfajor de maicena  \\\n",
       "730     False  False        False          False               False   \n",
       "\n",
       "     alfajor santafecino  alfajor santafesino   alka  aquarius  baggio  ...  \\\n",
       "730                False                False  False     False   False  ...   \n",
       "\n",
       "     stella  tarta  terepin  topline  turron  twistos   vino  vocacion  yerba  \\\n",
       "730   False  False    False    False   False    False  False     False  False   \n",
       "\n",
       "     yougurt  \n",
       "730    False  \n",
       "\n",
       "[1 rows x 102 columns]"
      ]
     },
     "execution_count": 12,
     "metadata": {},
     "output_type": "execute_result"
    }
   ],
   "source": [
    "basket.sample(1)"
   ]
  },
  {
   "cell_type": "markdown",
   "id": "6fe732c9-8ca1-43dd-9562-361a431e3016",
   "metadata": {},
   "source": [
    "## Saving the new processed dataset."
   ]
  },
  {
   "cell_type": "code",
   "execution_count": 13,
   "id": "0b8a8030-a8d2-4514-b4a9-9e1ad4291ecd",
   "metadata": {},
   "outputs": [],
   "source": [
    "basket.to_csv(\"basket.csv\", index=False)"
   ]
  },
  {
   "cell_type": "code",
   "execution_count": null,
   "id": "673c1ba8-5c44-4429-97bc-116b163927c8",
   "metadata": {},
   "outputs": [],
   "source": []
  }
 ],
 "metadata": {
  "kernelspec": {
   "display_name": "Python 3 (ipykernel)",
   "language": "python",
   "name": "python3"
  },
  "language_info": {
   "codemirror_mode": {
    "name": "ipython",
    "version": 3
   },
   "file_extension": ".py",
   "mimetype": "text/x-python",
   "name": "python",
   "nbconvert_exporter": "python",
   "pygments_lexer": "ipython3",
   "version": "3.10.9"
  }
 },
 "nbformat": 4,
 "nbformat_minor": 5
}
